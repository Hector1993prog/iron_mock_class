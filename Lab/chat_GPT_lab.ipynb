{
 "cells": [
  {
   "metadata": {},
   "cell_type": "markdown",
   "source": [
    "# Lab 2: Setting up OpenAI API Kyes and experimenting with ChatGPT completions\n",
    "\n",
    "Hi everybody, in this lab we are going to learn about the following topics\n",
    "\n",
    "1. How to setup the OpenAI account, API key access anbd how to use it\n",
    "2. How to call the openAI client to obtain chat completion responses\n",
    "3. HOw to create a function to module these responses and experimenting with the parameters\n",
    "4. How to use the MLOps methodology to pass all of these components into a YAML file to change them without hardcoding them in your code!\n",
    "\n",
    "Let's start!\n"
   ],
   "id": "50f944d9446d13d5"
  },
  {
   "metadata": {},
   "cell_type": "markdown",
   "source": [
    "## Getting Started with OpenAI API\n",
    "\n",
    "This guide will walk you through signing up for an OpenAI account, obtaining an API key, and using it to interact with OpenAI's API in your applications.\n",
    "\n",
    "### 1. Sign Up for an OpenAI Account\n",
    "\n",
    "To access OpenAI's API, you'll first need to create an account:\n",
    "\n",
    "1. **Visit the OpenAI Website**: Go to [https://platform.openai.com/signup](https://platform.openai.com/signup).\n",
    "2. **Sign Up or Log In**: \n",
    "   - If you don't have an account, you can create one using your email address, Google, or Microsoft account.\n",
    "   - If you already have an account, simply click on \"Log In\" and enter your credentials.\n",
    "\n",
    "After logging in, you'll be directed to the OpenAI dashboard.\n",
    "\n",
    "### 2. Obtain an API Key\n",
    "\n",
    "The API key is essential to authenticate your requests to OpenAI's services. Here’s how to obtain it:\n",
    "\n",
    "1. **Navigate to the API Keys Section**:\n",
    "   - From your OpenAI dashboard, go to **API Keys** in the navigation bar, or click on your profile picture at the top right and select **API keys** from the dropdown.\n",
    "   \n",
    "2. **Generate a New Key**:\n",
    "   - Click on **Create new secret key** to generate a new API key.\n",
    "   - You’ll be shown a unique key. **Copy this key** and store it in a safe place, as you won’t be able to view it again after leaving the page.\n",
    "   \n",
    "> **Note**: Treat your API key like a password. Avoid sharing it publicly or in unsecured locations, as anyone with this key can use your OpenAI account and associated resources.\n",
    "\n",
    "3. **Environment Variable Setup** (recommended):\n",
    "   - For secure usage, store the API key as an environment variable. In most operating systems, you can set this variable as follows:\n",
    "\n",
    "     **Linux/macOS**:\n",
    "     ```bash\n",
    "     export OPENAI_API_KEY=\"your_api_key_here\"\n",
    "     ```\n",
    "\n",
    "     **Windows (Command Prompt)**:\n",
    "     ```cmd\n",
    "     set OPENAI_API_KEY=\"your_api_key_here\"\n",
    "     ```\n",
    "\n",
    "   - Alternatively, add this variable to your `.bashrc` or `.zshrc` file (on Linux/macOS) or in the Environment Variables settings (on Windows) to ensure it's always set.\n",
    "\n",
    "## 3. Using the API Key in Your Application\n",
    "\n",
    "With your API key ready, you can now start using OpenAI's API to make requests. Here’s a basic example in Python to help you get started:\n",
    "\n",
    "### Example: Making a Request to OpenAI API with Python\n",
    "\n",
    "1. **Install the OpenAI Python Package**:\n",
    "   ```bash\n",
    "   pip install openai\n"
   ],
   "id": "871b8fc706cbc7c8"
  },
  {
   "metadata": {},
   "cell_type": "markdown",
   "source": "",
   "id": "449076f3d79bb599"
  },
  {
   "metadata": {},
   "cell_type": "code",
   "source": [
    "# Install the libraries if you did not do it yet! Nevertheless, we set up the poetry enviroment before, so it should take care fo these problem already.\n",
    "#!pip install openai\n",
    "#!pip install gradio \n",
    "#!pip install hydra-core dd"
   ],
   "id": "ea08af1f13a3ae82",
   "outputs": [],
   "execution_count": null
  },
  {
   "metadata": {},
   "cell_type": "code",
   "source": [
    "# First Task: Create a small completion function with OpenAI API docs HERE: https://platform.openai.com/docs/api-reference/introduction\n",
    "from openai import OpenAI \n",
    "\n",
    "api_key = \"your key here\"\n",
    "def chat_small_function(prompt:str, _key: str):\n",
    "    client = OpenAI(api_key=_key)\n",
    "     \n",
    "    response = client.chat.completions.create(\n",
    "        model=\"gpt-3.5-turbo\",\n",
    "        messages = [{\"role\": \"system\", \"content\": \"You are a helpful assistant\"}, \n",
    "                    {\"role\": \"user\", \"content\": prompt}    \n",
    "    ])\n",
    "    return response.choices[0].message.content"
   ],
   "id": "78c756f28a6e00d5",
   "outputs": [],
   "execution_count": null
  },
  {
   "metadata": {},
   "cell_type": "code",
   "source": [
    "#test the function:\n",
    "test_generated = chat_small_function(\"What is your name?\", api_key)\n",
    "print(test_generated)"
   ],
   "id": "b2226efbe8db2b8c",
   "outputs": [],
   "execution_count": null
  },
  {
   "metadata": {},
   "cell_type": "code",
   "source": [
    "#Second Task: Expand the function with more parameters: Include max_number_tokens, temperature and top_p. Check them in the docs and explain what is its effect on the generated response.\n",
    "def expanded_chat_function(prompt:str, _key, temperature, top_p:float, max_completion_tokens:int):\n",
    "    client = OpenAI(api_key=_key)\n",
    "    response = client.chat.completions.create( model=\"gpt-3.5-turbo\",\n",
    "        messages = [{\"role\": \"system\", \"content\": \"You are a helpful assistant\"}, \n",
    "                    {\"role\": \"user\", \"content\": prompt}],\n",
    "                    temperature=temperature,\n",
    "                    top_p=top_p,\n",
    "                    max_completion_tokens=max_completion_tokens)\n",
    "    return response.choices[0].message.content"
   ],
   "id": "b1568f9d8e09de38",
   "outputs": [],
   "execution_count": null
  },
  {
   "metadata": {},
   "cell_type": "code",
   "source": [
    "#test it\n",
    "test_generated = expanded_chat_function(\"What is your name?\") #introduce the rest of the parameters\n",
    "print(test_generated)"
   ],
   "id": "7fee7ec8dfc8d709",
   "outputs": [],
   "execution_count": null
  },
  {
   "metadata": {},
   "cell_type": "code",
   "source": [
    "#Third Task: NOw that you have the function, let`s try to modulate the responses based on system messages, that will tell ChatGPT how to answer us\n",
    "\n",
    "def expanded_chat_function_with_system(prompt:str,system_message:str, _key, temperature, top_p:float, max_completion_tokens:int):\n",
    "    client = OpenAI(api_key=_key)\n",
    "    response = client.chat.completions.create( model=\"gpt-3.5-turbo\",\n",
    "        messages = [{\"role\": \"system\", \"content\": system_message}, \n",
    "                    {\"role\": \"user\", \"content\": prompt}],\n",
    "                    temperature=temperature,\n",
    "                    top_p=top_p,\n",
    "                    max_completion_tokens=max_completion_tokens)\n",
    "    return response.choices[0].message.content"
   ],
   "id": "eda701517533ecd3",
   "outputs": [],
   "execution_count": null
  },
  {
   "metadata": {},
   "cell_type": "code",
   "source": [
    "#test it\n",
    "test_generated = expanded_chat_function_with_system(\"What is your name?\") #introduce the rest of the parameters\n",
    "print(test_generated)"
   ],
   "id": "337f16974e1cd9c7",
   "outputs": [],
   "execution_count": null
  },
  {
   "metadata": {},
   "cell_type": "code",
   "source": "",
   "id": "d6aaf2ecde2f4edb",
   "outputs": [],
   "execution_count": null
  }
 ],
 "metadata": {
  "kernelspec": {
   "display_name": "Python 3",
   "language": "python",
   "name": "python3"
  },
  "language_info": {
   "codemirror_mode": {
    "name": "ipython",
    "version": 2
   },
   "file_extension": ".py",
   "mimetype": "text/x-python",
   "name": "python",
   "nbconvert_exporter": "python",
   "pygments_lexer": "ipython2",
   "version": "2.7.6"
  }
 },
 "nbformat": 4,
 "nbformat_minor": 5
}
